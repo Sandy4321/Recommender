{
 "cells": [
  {
   "cell_type": "markdown",
   "metadata": {},
   "source": [
    "# Recommender\n",
    "---"
   ]
  },
  {
   "cell_type": "markdown",
   "metadata": {},
   "source": [
    "We have build a recommender based on purchase history. To obtain the top 5 recommendations for a specific user, type:\n",
    "\n",
    ">```python top5recom.py [userId]```\n",
    "\n"
   ]
  },
  {
   "cell_type": "markdown",
   "metadata": {},
   "source": [
    "By default, the files *functions.py*, *globvars.py* and *purchases.csv* should be in the same directory. Please read the full instructions of usage of the recommender typing the above command without the userId. If you want the recommender to output in stdout not only the recommended product Ids but also some intermidiate steps, please select *verb=True* in the file *options.py*."
   ]
  },
  {
   "cell_type": "markdown",
   "metadata": {},
   "source": [
    "The recommender uses a combination of:\n",
    "\n",
    "- recommendations from a **collaborative filtering** algorithm (the alternating least squares algorithm for implicit feedback datasets from the Spark machine learning library, check it [here](http://spark.apache.org/docs/latest/mllib-collaborative-filtering.html)).\n",
    "\n",
    "- a **customized best-sellers** selection based on summary statistics after user segmentation.\n"
   ]
  },
  {
   "cell_type": "markdown",
   "metadata": {},
   "source": [
    "### 1) How would you measure the performance of your recommender?\n",
    "\n",
    "We evaluated our recommender testing its performance against the more recent 20% of purchases data (purchases after May 15, 2014) having trained it only with data before that date.\n",
    "\n",
    "We measured its performance using two metrics:\n",
    "\n",
    "- RMSE (root-mean-square error): this metric measures only the accuracy of our collaborative filtering algorithm predicting the \"ratings\" (0-1, 1 is a purchase) of the purchases on the test set (only 1s, only purchases).\n",
    "\n",
    "- MAPK (mean average precision at k): on the other hand, MAPK compares our top 5 recommended products with the real future purchases on the test data. Considering the data and the goals that we have, we believe that **MAPK offers a much better measurment of the performance of our recommender**.\n",
    "\n",
    "\n",
    "The computation of the MAPK can be very slow because the recommender must predict user ratings for all products. We found that calculating MAPK on a small sample of the users speeds up the computation and gives a very reasonable estimate of the real score. As a default, the algorithm randomly choses 1000 users, which gave us a mean deviation on the MAPK calculated in all the users of just 7%. This number can be choosen in options.py, changing ```num_u_toeval```.\n",
    "\n",
    "To evaluate our recommender, just type:\n",
    "\n",
    ">```python top5recom.py eval```\n",
    "\n",
    "To speed up the computation, we set up an option *shorteval* (to be used in the above command instead of *eval*) that only uses 2014 data. It gives average higher scores. We don't recommend it because in a true environment you cannot ignore the evaluation of old users."
   ]
  },
  {
   "cell_type": "markdown",
   "metadata": {},
   "source": [
    "### 2) How does your approach compare to a trivial baseline?\n"
   ]
  },
  {
   "cell_type": "markdown",
   "metadata": {},
   "source": [
    "We have defined a trivial baseline that always recommends the top 5 all-time best-sellers (removing already purchased products). For a specific user, obtain the baseline recommendations with:\n",
    "\n",
    ">```python top5recom.py [userId] baseline```\n",
    "\n",
    "The baseline can be evaluated (only MAPK computed) with:\n",
    "\n",
    ">```python top5recom.py eval baseline```\n",
    "\n",
    "Our recommender **improves the baseline, doubling its MAPK score**. This means that our recommender predicts twice the number of correct products (products that the user purchases in the test set).\n",
    "\n",
    "We have also prepared a simpler version of our recommender that only considers user-customized best-sellers and does not include collaborative filtering. This model can be activated by typing *only_custom_BS* instead of *baseline* in the commands above. It already improves the MAPK baseline by a 50\\%."
   ]
  },
  {
   "cell_type": "markdown",
   "metadata": {},
   "source": [
    "### 3) Provide the rationale for picking your specific algorithm."
   ]
  },
  {
   "cell_type": "markdown",
   "metadata": {},
   "source": [
    "As stated before, our algorithm combinies recommendations from collaborative filtering with user-segmented customized best-sellers. Compared to other possibilities, we picked this combination because of:\n",
    "\n",
    "- **Accuracy**: it gives the best performance measured by MAPK,\n",
    "- **Diversity**: adding customized best-sellers also ensures diversity, for example a user that bought a TV will not only be recommended with new TVs.\n",
    "\n",
    "In general, **collaborative filtering** algorithms try to find *latent factors* (unknown features of the users and of the products) which allow us to predict the known *ratings* (in our cases purchases 0-1). As both user and product features are unknown, the algorithm minimizes the error on the predictions by finding the optimal parameters for users and products.\n",
    "\n",
    "We selected this particular collaborative filtering algorithm of Spark MLlib ([this one](http://spark.apache.org/docs/latest/mllib-collaborative-filtering.html)) because:\n",
    "\n",
    "- being build in Spark, the approach is **scalable** to big data mantaining a fast speed.\n",
    "- it includes an ***implicit feedback*** option that we have considered suitable to our problem. Instead of considering the user-item matrix as explicit preferences of the users, it treats the data as a combination of binary preferences and confidence values. The confidence on the purchase-as-rating can be customized (and grid-tunned) with the parameter *alpha*. The algortihm is based on [this article](http://yifanhu.net/PUB/cf.pdf).\n",
    "\n",
    "The selection of the algorithm parameters was done **selecting the better performing model in a grid**. Our tunned parameters are (better combinations may exist):\n",
    "\n",
    "- rank=25: number of latent factors in the model,\n",
    "- iterations=30: number of iterations of ALS,\n",
    "- lambda=0.01: regularization factor,\n",
    "- alpha=60.: confidence parameter on the given ratings.\n",
    "\n",
    "Regarding the **customized best-sellers**, the procedure is the following: we first segment the users depending on their purchase activity (users with at least 3 purchases in the last 3 months are labeled as 'active', the others are 'inactive' or 'new_users'), and then we recommend recent or not-so-recent best-sellers depending on this segmentation.\n",
    "\n",
    "We also implemented two other features to improve the algorithm, which can be activated or deactivated in the *options.py* file. They give a 10% improvement on the score only if activated together:\n",
    "\n",
    "- ***only_last_year***: True by default. If activated, the algorithm only trains on 2014 data, and users with no purchase on 2014 receive a best-sellers recommendation. It gives a small improvement on the score. This option is similar to *shorteval*, but shorteval only evaluates on 2014 data.\n",
    "\n",
    "- ***remove_outliers***: True by default. Some users have more than 5k purchases, compared to the 1 or 2 of the majority of users. Thus, it may be that these super-buyers (outliers) are corrupting our collaborative filtering model. Presently, the algorithm removes those users with a number of purchases more than 7 standard deviations away form the mean. Further investigation is needed to optimize the number of outiers removed."
   ]
  },
  {
   "cell_type": "markdown",
   "metadata": {},
   "source": [
    "#### Possible improvements of our algorithm:\n",
    "\n",
    "- We could extract product features from the productId, because the string contains groups of letters and numbers that may be related to product families (see the bottom of this notebook). That would allow us to add content-based recommendations and improve the **non-obviousness** of the recommender by adding recomendations from other product families.\n",
    "- We could add previously purchased products in the recommendations. This improves the MAPK score, because users do purchase the same product twice.\n",
    "- The evaluation procedure could be improved by adding:\n",
    "    - cross-validation: tune parameters in the cv set, give score on the test set. We could test and cross-validate in April and May 2014 respectively, and train before these dates.\n",
    "    - bagging: average the results from different seeds.\n",
    "- The code speed can be improved by doing all the data analysis in spark instead of using pandas and then writting and reading an intermediate file. \n",
    "- The code architechture can be improved by using user/product/model classes.\n",
    "- A thorough revision of the code is due to find possible errors."
   ]
  },
  {
   "cell_type": "markdown",
   "metadata": {},
   "source": [
    "## Exploration of the dataset"
   ]
  },
  {
   "cell_type": "code",
   "execution_count": 1,
   "metadata": {
    "collapsed": true
   },
   "outputs": [],
   "source": [
    "import numpy as np\n",
    "import pandas as pd\n",
    "import matplotlib.pyplot as plt\n",
    "import seaborn as sns\n",
    "%matplotlib inline"
   ]
  },
  {
   "cell_type": "code",
   "execution_count": 2,
   "metadata": {
    "collapsed": false
   },
   "outputs": [
    {
     "name": "stdout",
     "output_type": "stream",
     "text": [
      "total of 2058178 rows, 3 columns\n"
     ]
    },
    {
     "data": {
      "text/html": [
       "<div>\n",
       "<table border=\"1\" class=\"dataframe\">\n",
       "  <thead>\n",
       "    <tr style=\"text-align: right;\">\n",
       "      <th></th>\n",
       "      <th>timestamp</th>\n",
       "      <th>userId</th>\n",
       "      <th>productId</th>\n",
       "    </tr>\n",
       "  </thead>\n",
       "  <tbody>\n",
       "    <tr>\n",
       "      <th>0</th>\n",
       "      <td>1331072795</td>\n",
       "      <td>4</td>\n",
       "      <td>AC016EL50CPHALID-1749</td>\n",
       "    </tr>\n",
       "    <tr>\n",
       "      <th>1</th>\n",
       "      <td>1331074425</td>\n",
       "      <td>1</td>\n",
       "      <td>AC016EL67BJWALID-932</td>\n",
       "    </tr>\n",
       "  </tbody>\n",
       "</table>\n",
       "</div>"
      ],
      "text/plain": [
       "    timestamp  userId              productId\n",
       "0  1331072795       4  AC016EL50CPHALID-1749\n",
       "1  1331074425       1   AC016EL67BJWALID-932"
      ]
     },
     "execution_count": 2,
     "metadata": {},
     "output_type": "execute_result"
    }
   ],
   "source": [
    "df = pd.read_csv(\"/data/storage/projects/Recomm/purchases.csv\", sep=\";\", header=None,\n",
    "                 names=[\"timestamp\", \"userId\", \"productId\"])\n",
    "print(\"total of %i rows, %i columns\" % (df.shape[0],df.shape[1]))\n",
    "df.head(2)"
   ]
  },
  {
   "cell_type": "markdown",
   "metadata": {},
   "source": [
    "### Explore purchases per user and per product"
   ]
  },
  {
   "cell_type": "markdown",
   "metadata": {},
   "source": [
    "#### Descriptive statistics"
   ]
  },
  {
   "cell_type": "code",
   "execution_count": 3,
   "metadata": {
    "collapsed": false
   },
   "outputs": [
    {
     "name": "stdout",
     "output_type": "stream",
     "text": [
      "**Num. purchases per productId**\n",
      "\n",
      "count    81903.000000\n",
      "mean        25.129458\n",
      "std        173.631492\n",
      "min          1.000000\n",
      "25%          2.000000\n",
      "50%          4.000000\n",
      "75%         12.000000\n",
      "max      20302.000000\n",
      "dtype: float64\n"
     ]
    }
   ],
   "source": [
    "print \"**Num. purchases per productId**\\n\"\n",
    "n_purch_per_product = pd.value_counts(df[\"productId\"]).values\n",
    "print pd.Series(n_purch_per_product).describe()"
   ]
  },
  {
   "cell_type": "markdown",
   "metadata": {},
   "source": [
    "Each product has been purchased an average of 25 times, with some products having over 20k purchases. The median of 4 is a good indicator of the number of times a product is usually purchased."
   ]
  },
  {
   "cell_type": "code",
   "execution_count": 4,
   "metadata": {
    "collapsed": false
   },
   "outputs": [
    {
     "name": "stdout",
     "output_type": "stream",
     "text": [
      "\n",
      "**Num. purchases per userId**\n",
      "\n",
      "count    699157.000000\n",
      "mean          2.943799\n",
      "std          13.673869\n",
      "min           1.000000\n",
      "25%           1.000000\n",
      "50%           1.000000\n",
      "75%           3.000000\n",
      "max        5460.000000\n",
      "dtype: float64\n"
     ]
    }
   ],
   "source": [
    "print \"\\n**Num. purchases per userId**\\n\"\n",
    "n_purch_per_user = pd.value_counts(df[\"userId\"]).values\n",
    "print pd.Series(n_purch_per_user).describe()"
   ]
  },
  {
   "cell_type": "markdown",
   "metadata": {},
   "source": [
    "Each user has purchased an average of 3 products times, with some users purchasing over 5k products. The median of 1 is a good indicator of the number of products a user usually purchases."
   ]
  },
  {
   "cell_type": "markdown",
   "metadata": {},
   "source": [
    "We may consider to remove frequent buyers so they don't dominate the model:"
   ]
  },
  {
   "cell_type": "code",
   "execution_count": 5,
   "metadata": {
    "collapsed": false
   },
   "outputs": [
    {
     "name": "stdout",
     "output_type": "stream",
     "text": [
      "Outliers represent a 0.06% of the users\n"
     ]
    }
   ],
   "source": [
    "threshold = n_purch_per_user.mean() + 7*n_purch_per_user.std()\n",
    "n_purch_per_user_f = n_purch_per_user[n_purch_per_user<threshold]\n",
    "print(\"Outliers represent a %.2f%% of the users\" % ((1.-len(n_purch_per_user_f)/float(len(df.userId.unique())))*100.))"
   ]
  },
  {
   "cell_type": "code",
   "execution_count": 6,
   "metadata": {
    "collapsed": false
   },
   "outputs": [
    {
     "data": {
      "text/plain": [
       "<matplotlib.text.Text at 0x7f0a6b6c6e10>"
      ]
     },
     "execution_count": 6,
     "metadata": {},
     "output_type": "execute_result"
    },
    {
     "data": {
      "image/png": "[encoded data removed]",
      "text/plain": [
       "<matplotlib.figure.Figure at 0x7f0a6ba0aad0>"
      ]
     },
     "metadata": {},
     "output_type": "display_data"
    }
   ],
   "source": [
    "f, (ax_l, ax_r) = plt.subplots(1, 2, figsize=(14, 5))\n",
    "sns.distplot(n_purch_per_product[n_purch_per_product<=20], kde=False, bins=20, ax=ax_l,\n",
    "            vertical=True)\n",
    "ax_l.set_ylim([1,20])\n",
    "ax_l.set_title(\"Num. of purchases per product\", fontsize=15)\n",
    "ax_l.set_ylabel(\"Num. of times a product has been purchased\", fontsize=13)\n",
    "ax_l.set_xlabel(\"Counts\", fontsize=13)\n",
    "sns.distplot(n_purch_per_user[n_purch_per_user<=10], kde=False, bins=10, color='green', ax=ax_r)\n",
    "ax_r.set_xlim([1,10])\n",
    "ax_r.set_title(\"Num. of purchases per user\", fontsize=15)\n",
    "ax_r.set_xlabel(\"Num. of products a user has purchased\", fontsize=13)\n",
    "ax_r.set_ylabel(\"Counts\", fontsize=13)"
   ]
  },
  {
   "cell_type": "markdown",
   "metadata": {},
   "source": [
    "#### Top 10 products and users"
   ]
  },
  {
   "cell_type": "code",
   "execution_count": 7,
   "metadata": {
    "collapsed": false
   },
   "outputs": [
    {
     "name": "stdout",
     "output_type": "stream",
     "text": [
      "****************\n",
      " Feature:  userId \n",
      "****************\n",
      "Number of uniques: 699157\n",
      "Categories    Counts\n",
      "----------    ------\n",
      "414519    5460\n",
      "10946     3945\n",
      "11369     3875\n",
      "321933    3729\n",
      "216295    2354\n",
      "3444      2151\n",
      "817015    1892\n",
      "216293    1799\n",
      "409184    1294\n",
      "12054     1180\n",
      "dtype: int64 \n",
      " (there are other 699147 categories not shown)\n",
      "\n",
      "\n",
      "****************\n",
      " Feature:  productId \n",
      "****************\n",
      "Number of uniques: 81903\n",
      "Categories    Counts\n",
      "----------    ------\n",
      "SO888EL13MQGANID-45972     20302\n",
      "IK617HLACKH6ANID-139943    13458\n",
      "VI385HL03VBWANID-52960      8752\n",
      "Q2536HLABPUOANID-88407      8061\n",
      "MI417ELABNCNANID-84424      7525\n",
      "PE668ELABTMEANID-96005      7373\n",
      "QU463HBABN14ANID-83871      7156\n",
      "BC680ELABJJOANID-78961      6753\n",
      "AC016EL31IUMANID-63372      6410\n",
      "SA848EL71ZSIANID-56257      6316\n",
      "dtype: int64 \n",
      " (there are other 81893 categories not shown)\n",
      "\n",
      "\n"
     ]
    }
   ],
   "source": [
    "Categ_cols = [\"userId\", \"productId\"]\n",
    "for col in Categ_cols:\n",
    "    df[col] = df[col].astype(\"category\")\n",
    "    n_un = len(df[col].unique())\n",
    "    print '****************\\n Feature: ',col,'\\n****************'\n",
    "    print 'Number of uniques:',n_un\n",
    "    print 'Categories    Counts\\n----------    ------'\n",
    "    if n_un>10:\n",
    "        print pd.value_counts(df[col])[:10],'\\n (there are other %i categories not shown)' % (n_un-10)\n",
    "    else:\n",
    "        print pd.value_counts(df[col])\n",
    "    print '\\n'"
   ]
  },
  {
   "cell_type": "markdown",
   "metadata": {},
   "source": [
    "### Exploring time of purchases"
   ]
  },
  {
   "cell_type": "code",
   "execution_count": 8,
   "metadata": {
    "collapsed": false
   },
   "outputs": [
    {
     "data": {
      "text/html": [
       "<div>\n",
       "<table border=\"1\" class=\"dataframe\">\n",
       "  <thead>\n",
       "    <tr style=\"text-align: right;\">\n",
       "      <th></th>\n",
       "      <th>timestamp</th>\n",
       "      <th>userId</th>\n",
       "      <th>productId</th>\n",
       "      <th>datetime</th>\n",
       "    </tr>\n",
       "  </thead>\n",
       "  <tbody>\n",
       "    <tr>\n",
       "      <th>0</th>\n",
       "      <td>1331072795</td>\n",
       "      <td>4</td>\n",
       "      <td>AC016EL50CPHALID-1749</td>\n",
       "      <td>2012-03-06 22:26:35</td>\n",
       "    </tr>\n",
       "    <tr>\n",
       "      <th>1</th>\n",
       "      <td>1331074425</td>\n",
       "      <td>1</td>\n",
       "      <td>AC016EL67BJWALID-932</td>\n",
       "      <td>2012-03-06 22:53:45</td>\n",
       "    </tr>\n",
       "  </tbody>\n",
       "</table>\n",
       "</div>"
      ],
      "text/plain": [
       "    timestamp userId              productId            datetime\n",
       "0  1331072795      4  AC016EL50CPHALID-1749 2012-03-06 22:26:35\n",
       "1  1331074425      1   AC016EL67BJWALID-932 2012-03-06 22:53:45"
      ]
     },
     "execution_count": 8,
     "metadata": {},
     "output_type": "execute_result"
    }
   ],
   "source": [
    "df['datetime'] = pd.to_datetime(df[\"timestamp\"], unit='s')\n",
    "df.head(2)"
   ]
  },
  {
   "cell_type": "code",
   "execution_count": 9,
   "metadata": {
    "collapsed": false
   },
   "outputs": [
    {
     "data": {
      "text/plain": [
       "count                 2058178\n",
       "unique                1488686\n",
       "top       2012-06-23 14:05:41\n",
       "freq                     3945\n",
       "first     2012-03-06 22:26:35\n",
       "last      2014-06-25 02:14:14\n",
       "Name: datetime, dtype: object"
      ]
     },
     "execution_count": 9,
     "metadata": {},
     "output_type": "execute_result"
    }
   ],
   "source": [
    "df.datetime.describe()"
   ]
  },
  {
   "cell_type": "code",
   "execution_count": 10,
   "metadata": {
    "collapsed": false
   },
   "outputs": [
    {
     "data": {
      "text/plain": [
       "<matplotlib.text.Text at 0x7f0a6b479050>"
      ]
     },
     "execution_count": 10,
     "metadata": {},
     "output_type": "execute_result"
    },
    {
     "data": {
      "image/png": "[encoded data removed]",
      "text/plain": [
       "<matplotlib.figure.Figure at 0x7f0aa02399d0>"
      ]
     },
     "metadata": {},
     "output_type": "display_data"
    }
   ],
   "source": [
    "plt.figure(figsize=(10,5))\n",
    "dfp = df['datetime'].groupby([df['datetime'].dt.year, df['datetime'].dt.month]).count()\n",
    "p = dfp.plot(kind=\"bar\", color=sns.color_palette(\"Blues\", len(dfp)))\n",
    "p.set_xlabel(\"Time (year, month)\", fontsize=13)\n",
    "p.set_ylabel(\"Num. of Purchases\", fontsize=13)\n",
    "p.set_title(\"History of monthly purchases\", fontsize=18)"
   ]
  },
  {
   "cell_type": "code",
   "execution_count": 11,
   "metadata": {
    "collapsed": false
   },
   "outputs": [
    {
     "data": {
      "text/plain": [
       "<matplotlib.text.Text at 0x7f0a6b3f02d0>"
      ]
     },
     "execution_count": 11,
     "metadata": {},
     "output_type": "execute_result"
    },
    {
     "data": {
      "image/png": "[encoded data removed]",
      "text/plain": [
       "<matplotlib.figure.Figure at 0x7f0a69d16d50>"
      ]
     },
     "metadata": {},
     "output_type": "display_data"
    }
   ],
   "source": [
    "plt.figure(figsize=(10,5))\n",
    "dfp = df['datetime'].groupby(df['datetime'].dt.dayofweek).count()\n",
    "p = dfp.plot(kind=\"bar\", color=sns.color_palette(\"Greens\", len(dfp)))\n",
    "p.set_xlabel(\"Day of the week\", fontsize=13)\n",
    "p.set_xticklabels([\"Mon\", \"Tue\", \"Wed\", \"Thu\", \"Fri\", \"Sat\", \"Sun\"], rotation=0)\n",
    "p.set_ylabel(\"Num. of Purchases\", fontsize=13)\n",
    "p.set_title(\"Purchases by day of the week\", fontsize=18)"
   ]
  },
  {
   "cell_type": "code",
   "execution_count": 12,
   "metadata": {
    "collapsed": false
   },
   "outputs": [
    {
     "data": {
      "text/plain": [
       "<matplotlib.text.Text at 0x7f0a6a941bd0>"
      ]
     },
     "execution_count": 12,
     "metadata": {},
     "output_type": "execute_result"
    },
    {
     "data": {
      "image/png": "[encoded data removed]",
      "text/plain": [
       "<matplotlib.figure.Figure at 0x7f0a6b77b410>"
      ]
     },
     "metadata": {},
     "output_type": "display_data"
    }
   ],
   "source": [
    "plt.figure(figsize=(10,5))\n",
    "dfp = df['datetime'].groupby(df['datetime'].dt.hour).count()\n",
    "p = dfp.plot(kind=\"bar\", color=sns.color_palette(\"Reds\", len(dfp)))\n",
    "p.set_xlabel(\"Hour of the day\", fontsize=13)\n",
    "p.set_xticklabels(xrange(1,25), rotation=0)\n",
    "p.set_ylabel(\"Num. of Purchases\", fontsize=13)\n",
    "p.set_title(\"Purchases by hour of the day\", fontsize=18)"
   ]
  },
  {
   "cell_type": "markdown",
   "metadata": {},
   "source": [
    "### Segmenting users by date of last purchase"
   ]
  },
  {
   "cell_type": "markdown",
   "metadata": {},
   "source": [
    "We can segment users in three epochs:\n",
    "\n",
    "- **2**: last purchase before this year (2014)\n",
    "- **1**: last purchase before this month (June)\n",
    "- **0**: last purchase in this month (June 2014)"
   ]
  },
  {
   "cell_type": "code",
   "execution_count": 13,
   "metadata": {
    "collapsed": false
   },
   "outputs": [],
   "source": [
    "# new dataframe with only the last purchase of each user:\n",
    "df_lastp = df.ix[:,1:].sort_values('datetime').drop_duplicates(subset=['userId'],keep='last')"
   ]
  },
  {
   "cell_type": "code",
   "execution_count": 14,
   "metadata": {
    "collapsed": false
   },
   "outputs": [
    {
     "data": {
      "text/html": [
       "<div>\n",
       "<table border=\"1\" class=\"dataframe\">\n",
       "  <thead>\n",
       "    <tr style=\"text-align: right;\">\n",
       "      <th></th>\n",
       "      <th>userId</th>\n",
       "      <th>productId</th>\n",
       "      <th>datetime</th>\n",
       "      <th>epoch</th>\n",
       "    </tr>\n",
       "  </thead>\n",
       "  <tbody>\n",
       "    <tr>\n",
       "      <th>0</th>\n",
       "      <td>4</td>\n",
       "      <td>AC016EL50CPHALID-1749</td>\n",
       "      <td>2012-03-06 22:26:35</td>\n",
       "      <td>2</td>\n",
       "    </tr>\n",
       "    <tr>\n",
       "      <th>29</th>\n",
       "      <td>16</td>\n",
       "      <td>VI962EL59EFGALID-2840</td>\n",
       "      <td>2012-03-09 15:33:59</td>\n",
       "      <td>2</td>\n",
       "    </tr>\n",
       "  </tbody>\n",
       "</table>\n",
       "</div>"
      ],
      "text/plain": [
       "   userId              productId            datetime  epoch\n",
       "0       4  AC016EL50CPHALID-1749 2012-03-06 22:26:35      2\n",
       "29     16  VI962EL59EFGALID-2840 2012-03-09 15:33:59      2"
      ]
     },
     "execution_count": 14,
     "metadata": {},
     "output_type": "execute_result"
    }
   ],
   "source": [
    "# create the feature \"epoch\"\n",
    "df_lastp['year'], df_lastp['month'] = df_lastp.datetime.dt.year, df_lastp.datetime.dt.month\n",
    "df_lastp['epoch'] = 2\n",
    "df_lastp.loc[df_lastp['year'] == 2014,'epoch'] = 1\n",
    "df_lastp.loc[(df_lastp['year'] == 2014) & (df_lastp['month'] >=6), 'epoch'] = 0\n",
    "df_lastp.drop(['year','month'], axis=1, inplace=True)\n",
    "df_lastp.head(2)"
   ]
  },
  {
   "cell_type": "code",
   "execution_count": 15,
   "metadata": {
    "collapsed": false
   },
   "outputs": [
    {
     "data": {
      "text/plain": [
       "<matplotlib.text.Text at 0x7f0a6a7610d0>"
      ]
     },
     "execution_count": 15,
     "metadata": {},
     "output_type": "execute_result"
    },
    {
     "data": {
      "image/png": "[encoded data removed]",
      "text/plain": [
       "<matplotlib.figure.Figure at 0x7f0a6b77bc50>"
      ]
     },
     "metadata": {},
     "output_type": "display_data"
    }
   ],
   "source": [
    "plt.figure(figsize=(7,5))\n",
    "dfp = df_lastp.groupby('epoch')['epoch'].count()\n",
    "p = dfp.plot(kind=\"bar\", color=sns.color_palette(\"Set1\", len(dfp), desat=.5))\n",
    "p.set_xlabel(\"Segment\", fontsize=13)\n",
    "p.set_xticklabels([\"0: June 2014\", \"1: before June 2014\", \"2: before 2014\"], rotation=0)\n",
    "p.set_ylabel(\"Count\", fontsize=13)\n",
    "p.set_title(\"Segmentation of users by date of last purchase\", fontsize=18)"
   ]
  },
  {
   "cell_type": "markdown",
   "metadata": {},
   "source": [
    "### Segmenting users by purchasing activity"
   ]
  },
  {
   "cell_type": "markdown",
   "metadata": {},
   "source": [
    "It may be useful to segment our users by purchasing activity. A simple approach would be:\n",
    "\n",
    "- **Active**: users that purchased at least 3 items in the last 3 months\n",
    "- **Inactive**: the rest of users"
   ]
  },
  {
   "cell_type": "code",
   "execution_count": 16,
   "metadata": {
    "collapsed": false
   },
   "outputs": [],
   "source": [
    "date_3m_bef_last_purch = df.datetime.iloc[-1] + pd.tseries.offsets.DateOffset(months=-3)"
   ]
  },
  {
   "cell_type": "code",
   "execution_count": 17,
   "metadata": {
    "collapsed": false
   },
   "outputs": [
    {
     "name": "stdout",
     "output_type": "stream",
     "text": [
      "Examples of active users:  [377690, 38358, 960982, 150259, 374592]\n"
     ]
    }
   ],
   "source": [
    "# new dataframe with only the last purchase of each user:\n",
    "df_lastp = df.ix[:,1:].sort_values('datetime').drop_duplicates(subset=['userId'],keep='last')\n",
    "# First, to find the active users, drop those that did not bought during the last 3 months.\n",
    "# (we saw before that the last date is 2014-06-25)\n",
    "u_1p_last3m = df_lastp.ix[df.datetime>date_3m_bef_last_purch,:].userId.tolist()\n",
    "df_u3m = df.ix[df.userId.isin(u_1p_last3m),1:]\n",
    "# we remove the last purchase of each user from df_u3m, two times:\n",
    "for i in xrange(2):\n",
    "    df2rem = df_u3m.sort_values('datetime').drop_duplicates(subset=['userId'],keep='last')\n",
    "    df2rem['key'] = 'x'\n",
    "    df_u3m = pd.merge(df_u3m, df2rem, on=df_u3m.columns.tolist(), how='left')\n",
    "    df_u3m = df_u3m[df_u3m['key'].isnull()].drop('key', axis=1)\n",
    "# if the last purchase now is still within the last three months,\n",
    "# then the user bought 3 items in the last 3 months:\n",
    "df_u3m = df_u3m.sort_values('datetime').drop_duplicates(subset=['userId'],keep='last')\n",
    "u_3p_last3m = df_u3m.ix[df_u3m.datetime>date_3m_bef_last_purch,:].userId.tolist()\n",
    "print \"Examples of active users: \",u_3p_last3m[-5:]"
   ]
  },
  {
   "cell_type": "code",
   "execution_count": 18,
   "metadata": {
    "collapsed": false
   },
   "outputs": [],
   "source": [
    "df_activ = df.ix[df.userId.isin(u_3p_last3m),1:]\n",
    "df_inact = df.ix[~df.userId.isin(u_3p_last3m),1:]"
   ]
  },
  {
   "cell_type": "code",
   "execution_count": 19,
   "metadata": {
    "collapsed": false
   },
   "outputs": [
    {
     "data": {
      "text/plain": [
       "<matplotlib.text.Text at 0x7f0a6632ec50>"
      ]
     },
     "execution_count": 19,
     "metadata": {},
     "output_type": "execute_result"
    },
    {
     "data": {
      "image/png": "[encoded data removed]",
      "text/plain": [
       "<matplotlib.figure.Figure at 0x7f0a6aacabd0>"
      ]
     },
     "metadata": {},
     "output_type": "display_data"
    }
   ],
   "source": [
    "# plot segments:\n",
    "f, (ax_l, ax_r) = plt.subplots(1, 2, figsize=(12, 5))\n",
    "x = np.arange(2)\n",
    "n_u = [len(df_activ.userId.unique()), len(df_inact.userId.unique())]\n",
    "ax_l.bar(x, n_u, color=sns.color_palette(\"Set1\", len(x), desat=.5))\n",
    "ax_l.set_xticks(x + 0.4)\n",
    "ax_l.set_xticklabels([\"Active users\", \"Inactive users\"], fontsize=13)\n",
    "ax_l.set_ylabel(\"Num. users\", fontsize=13)\n",
    "ax_l.set_title(\"Num. users\", fontsize=15)\n",
    "\n",
    "n_p = [len(df_activ.ix[df_activ.datetime.dt.year==2014,:]),\n",
    "       len(df_inact.ix[df_inact.datetime.dt.year==2014,:])]\n",
    "ax_r.bar(x, n_p, color=sns.color_palette(\"Set1\", len(x), desat=.5))\n",
    "ax_r.set_xticks(x + 0.4)\n",
    "ax_r.set_xticklabels([\"Active users\", \"Inactive users\"], fontsize=13)\n",
    "ax_r.set_ylabel(\"Num. purchases in 2014\", fontsize=13)\n",
    "ax_r.set_title(\"Num. purchases in 2014\", fontsize=15)\n",
    "f.suptitle(\"Segmentation of users by purchase activity\", fontsize=18)"
   ]
  },
  {
   "cell_type": "markdown",
   "metadata": {},
   "source": [
    "### Best-sellers by time period"
   ]
  },
  {
   "cell_type": "markdown",
   "metadata": {},
   "source": [
    "When being recommended with new products, our two segments of users may want to see different things:\n",
    "\n",
    "- *Active users*: recommendations of recent products, very recent best-sellers\n",
    "- *Inactive users*: add some all-time best sellers to the recommendations\n",
    "- *New users*: mostly recommendations of all-time best-sellers\n",
    "\n",
    "So now we will calculate the top 5 best-sellers of:\n",
    "\n",
    "- all-time\n",
    "- last 3 months\n",
    "- last week"
   ]
  },
  {
   "cell_type": "code",
   "execution_count": 20,
   "metadata": {
    "collapsed": false,
    "scrolled": true
   },
   "outputs": [
    {
     "name": "stdout",
     "output_type": "stream",
     "text": [
      "** The all-time top 5 purchased products are:\n",
      "SO888EL13MQGANID-45972     20302\n",
      "IK617HLACKH6ANID-139943    13458\n",
      "VI385HL03VBWANID-52960      8752\n",
      "Q2536HLABPUOANID-88407      8061\n",
      "MI417ELABNCNANID-84424      7525\n",
      "dtype: int64 \n",
      "\n",
      "** The top 5 purchased products in the last 3 months are:\n",
      "IK617HLACKH6ANID-139943    13458\n",
      "PE668ELABTMEANID-96005      6232\n",
      "MO726ELADBYJANID-182332     5289\n",
      "QU463HBABN14ANID-83871      4679\n",
      "BO437ELABYHPANID-104585     3924\n",
      "dtype: int64 \n",
      "\n",
      "** The top 5 purchased products in the last week are:\n",
      "IK617HLACKH6ANID-139943    1436\n",
      "MO726ELADBYJANID-182332    1370\n",
      "BO437ELABYHPANID-104585     662\n",
      "TO970HLABWYMANID-101849     609\n",
      "DE555EL38FQNANID-40153      601\n",
      "dtype: int64 \n",
      "\n"
     ]
    }
   ],
   "source": [
    "print(\"** The all-time top 5 purchased products are:\")\n",
    "top5_alltime = pd.value_counts(df[\"productId\"])[:5]\n",
    "print top5_alltime,\"\\n\"\n",
    "print(\"** The top 5 purchased products in the last 3 months are:\")\n",
    "print pd.value_counts(df.ix[df.datetime>\"2014-03-25\",\"productId\"])[:5],\"\\n\"\n",
    "print(\"** The top 5 purchased products in the last week are:\")\n",
    "print pd.value_counts(df.ix[df.datetime>\"2014-06-18\",\"productId\"])[:5],\"\\n\""
   ]
  },
  {
   "cell_type": "markdown",
   "metadata": {
    "collapsed": true
   },
   "source": [
    "### Possible new features for content-based recommendations"
   ]
  },
  {
   "cell_type": "code",
   "execution_count": 21,
   "metadata": {
    "collapsed": true
   },
   "outputs": [],
   "source": [
    "df[\"prod_1\"] = df.productId.apply(lambda x: x.split(\"-\")[0][:2])"
   ]
  },
  {
   "cell_type": "code",
   "execution_count": 22,
   "metadata": {
    "collapsed": false
   },
   "outputs": [],
   "source": [
    "df[\"prod_2\"] = df.productId.apply(lambda x: x.split(\"-\")[0][-4:])"
   ]
  },
  {
   "cell_type": "code",
   "execution_count": 23,
   "metadata": {
    "collapsed": false
   },
   "outputs": [
    {
     "data": {
      "text/html": [
       "<div>\n",
       "<table border=\"1\" class=\"dataframe\">\n",
       "  <thead>\n",
       "    <tr style=\"text-align: right;\">\n",
       "      <th></th>\n",
       "      <th>timestamp</th>\n",
       "      <th>userId</th>\n",
       "      <th>productId</th>\n",
       "      <th>datetime</th>\n",
       "      <th>prod_1</th>\n",
       "      <th>prod_2</th>\n",
       "    </tr>\n",
       "  </thead>\n",
       "  <tbody>\n",
       "    <tr>\n",
       "      <th>0</th>\n",
       "      <td>1331072795</td>\n",
       "      <td>4</td>\n",
       "      <td>AC016EL50CPHALID-1749</td>\n",
       "      <td>2012-03-06 22:26:35</td>\n",
       "      <td>AC</td>\n",
       "      <td>ALID</td>\n",
       "    </tr>\n",
       "    <tr>\n",
       "      <th>1</th>\n",
       "      <td>1331074425</td>\n",
       "      <td>1</td>\n",
       "      <td>AC016EL67BJWALID-932</td>\n",
       "      <td>2012-03-06 22:53:45</td>\n",
       "      <td>AC</td>\n",
       "      <td>ALID</td>\n",
       "    </tr>\n",
       "  </tbody>\n",
       "</table>\n",
       "</div>"
      ],
      "text/plain": [
       "    timestamp userId              productId            datetime prod_1 prod_2\n",
       "0  1331072795      4  AC016EL50CPHALID-1749 2012-03-06 22:26:35     AC   ALID\n",
       "1  1331074425      1   AC016EL67BJWALID-932 2012-03-06 22:53:45     AC   ALID"
      ]
     },
     "execution_count": 23,
     "metadata": {},
     "output_type": "execute_result"
    }
   ],
   "source": [
    "df.head(2)"
   ]
  },
  {
   "cell_type": "code",
   "execution_count": 24,
   "metadata": {
    "collapsed": false
   },
   "outputs": [
    {
     "name": "stdout",
     "output_type": "stream",
     "text": [
      "****************\n",
      " Feature:  prod_1 \n",
      "****************\n",
      "Number of uniques: 391\n",
      "Categories    Counts\n",
      "----------    ------\n",
      "SA    145092\n",
      "SO     68276\n",
      "BL     64986\n",
      "TO     58673\n",
      "CA     54387\n",
      "MO     51948\n",
      "MA     50256\n",
      "BC     48372\n",
      "VI     45292\n",
      "NA     39459\n",
      "Name: prod_1, dtype: int64 \n",
      " (there are other 381 categories not shown)\n",
      "\n",
      "\n",
      "****************\n",
      " Feature:  prod_2 \n",
      "****************\n",
      "Number of uniques: 833\n",
      "Categories    Counts\n",
      "----------    ------\n",
      "ANID    2016098\n",
      "ALID      39746\n",
      "4LYF        100\n",
      "4LJF         51\n",
      "1QKW         21\n",
      "1QHU         20\n",
      "2LWT         20\n",
      "3PTW         16\n",
      "4PYB         16\n",
      "0QAD         16\n",
      "Name: prod_2, dtype: int64 \n",
      " (there are other 823 categories not shown)\n",
      "\n",
      "\n"
     ]
    }
   ],
   "source": [
    "Categ_cols = [\"prod_1\", \"prod_2\"]\n",
    "n_max = 10\n",
    "for col in Categ_cols:\n",
    "    n_un = len(df[col].unique())\n",
    "    print '****************\\n Feature: ',col,'\\n****************'\n",
    "    print 'Number of uniques:',n_un\n",
    "    print 'Categories    Counts\\n----------    ------'\n",
    "    if n_un>n_max:\n",
    "        print pd.value_counts(df[col])[:n_max],'\\n (there are other %i categories not shown)' % (n_un-n_max)\n",
    "    else:\n",
    "        print pd.value_counts(df[col])\n",
    "    print '\\n'"
   ]
  }
 ],
 "metadata": {
  "kernelspec": {
   "display_name": "Python 2",
   "language": "python",
   "name": "python2"
  },
  "language_info": {
   "codemirror_mode": {
    "name": "ipython",
    "version": 2
   },
   "file_extension": ".py",
   "mimetype": "text/x-python",
   "name": "python",
   "nbconvert_exporter": "python",
   "pygments_lexer": "ipython2",
   "version": "2.7.10"
  }
 },
 "nbformat": 4,
 "nbformat_minor": 0
}
